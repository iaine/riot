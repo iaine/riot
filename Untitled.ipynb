{
 "cells": [
  {
   "cell_type": "markdown",
   "id": "35deb0a5",
   "metadata": {},
   "source": []
  },
  {
   "cell_type": "markdown",
   "id": "00a791a7",
   "metadata": {},
   "source": [
    "## Libraries\n",
    "\n",
    "Python is a general purpose language but it cannot do everything. Libraries can be used to extend the language.\n",
    "\n",
    "Libraries, or packages, can be installed through the pip system that is available through the command line. \n",
    "\n",
    "Here I use pandas, which is a data science library that is useful for manipulating data. If you know R, pandas will feel familiar. "
   ]
  },
  {
   "cell_type": "code",
   "execution_count": 2,
   "id": "ad3fe7df",
   "metadata": {},
   "outputs": [],
   "source": [
    "import pandas as pd"
   ]
  },
  {
   "cell_type": "markdown",
   "id": "0490c7e8",
   "metadata": {},
   "source": [
    "## Importing Data\n",
    "\n",
    "Pandas provides functions to import data and to manipulate it. "
   ]
  },
  {
   "cell_type": "code",
   "execution_count": 6,
   "id": "0f19e6dd",
   "metadata": {},
   "outputs": [
    {
     "data": {
      "text/html": [
       "<div>\n",
       "<style scoped>\n",
       "    .dataframe tbody tr th:only-of-type {\n",
       "        vertical-align: middle;\n",
       "    }\n",
       "\n",
       "    .dataframe tbody tr th {\n",
       "        vertical-align: top;\n",
       "    }\n",
       "\n",
       "    .dataframe thead th {\n",
       "        text-align: right;\n",
       "    }\n",
       "</style>\n",
       "<table border=\"1\" class=\"dataframe\">\n",
       "  <thead>\n",
       "    <tr style=\"text-align: right;\">\n",
       "      <th></th>\n",
       "      <th>Unnamed: 0</th>\n",
       "      <th>created_at</th>\n",
       "      <th>id</th>\n",
       "      <th>id_str</th>\n",
       "      <th>text</th>\n",
       "      <th>truncated</th>\n",
       "      <th>source</th>\n",
       "      <th>in_reply_to_status_id</th>\n",
       "      <th>in_reply_to_status_id_str</th>\n",
       "      <th>in_reply_to_user_id</th>\n",
       "      <th>...</th>\n",
       "      <th>retweeted_status.quoted_status.is_quote_status</th>\n",
       "      <th>retweeted_status.quoted_status.quoted_status_id</th>\n",
       "      <th>retweeted_status.quoted_status.quoted_status_id_str</th>\n",
       "      <th>retweeted_status.quoted_status.retweet_count</th>\n",
       "      <th>retweeted_status.quoted_status.favorite_count</th>\n",
       "      <th>retweeted_status.quoted_status.favorited</th>\n",
       "      <th>retweeted_status.quoted_status.retweeted</th>\n",
       "      <th>retweeted_status.quoted_status.possibly_sensitive</th>\n",
       "      <th>retweeted_status.quoted_status.lang</th>\n",
       "      <th>possibly_sensitive</th>\n",
       "    </tr>\n",
       "  </thead>\n",
       "  <tbody>\n",
       "    <tr>\n",
       "      <th>0</th>\n",
       "      <td>0</td>\n",
       "      <td>Thu Oct 13 11:18:48 +0000 2022</td>\n",
       "      <td>1580518410060206080</td>\n",
       "      <td>1580518410060206080</td>\n",
       "      <td>RT @riots_imperial: We are back! Join us &amp;amp;...</td>\n",
       "      <td>False</td>\n",
       "      <td>&lt;a href=\"https://mobile.twitter.com\" rel=\"nofo...</td>\n",
       "      <td>NaN</td>\n",
       "      <td>NaN</td>\n",
       "      <td>NaN</td>\n",
       "      <td>...</td>\n",
       "      <td>NaN</td>\n",
       "      <td>NaN</td>\n",
       "      <td>NaN</td>\n",
       "      <td>NaN</td>\n",
       "      <td>NaN</td>\n",
       "      <td>NaN</td>\n",
       "      <td>NaN</td>\n",
       "      <td>NaN</td>\n",
       "      <td>NaN</td>\n",
       "      <td>NaN</td>\n",
       "    </tr>\n",
       "    <tr>\n",
       "      <th>1</th>\n",
       "      <td>1</td>\n",
       "      <td>Wed Oct 12 14:06:19 +0000 2022</td>\n",
       "      <td>1580198182134304768</td>\n",
       "      <td>1580198182134304768</td>\n",
       "      <td>RT @MoShahdloo: Did you know that you can show...</td>\n",
       "      <td>False</td>\n",
       "      <td>&lt;a href=\"http://twitter.com/download/iphone\" r...</td>\n",
       "      <td>NaN</td>\n",
       "      <td>NaN</td>\n",
       "      <td>NaN</td>\n",
       "      <td>...</td>\n",
       "      <td>True</td>\n",
       "      <td>1.579510e+18</td>\n",
       "      <td>1.579510e+18</td>\n",
       "      <td>1.0</td>\n",
       "      <td>8.0</td>\n",
       "      <td>False</td>\n",
       "      <td>False</td>\n",
       "      <td>False</td>\n",
       "      <td>en</td>\n",
       "      <td>NaN</td>\n",
       "    </tr>\n",
       "    <tr>\n",
       "      <th>2</th>\n",
       "      <td>2</td>\n",
       "      <td>Mon Oct 10 10:14:18 +0000 2022</td>\n",
       "      <td>1579415016088141825</td>\n",
       "      <td>1579415016088141825</td>\n",
       "      <td>RT @AU_PrimaryCare: Learn about these importan...</td>\n",
       "      <td>False</td>\n",
       "      <td>&lt;a href=\"http://twitter.com/download/iphone\" r...</td>\n",
       "      <td>NaN</td>\n",
       "      <td>NaN</td>\n",
       "      <td>NaN</td>\n",
       "      <td>...</td>\n",
       "      <td>NaN</td>\n",
       "      <td>NaN</td>\n",
       "      <td>NaN</td>\n",
       "      <td>NaN</td>\n",
       "      <td>NaN</td>\n",
       "      <td>NaN</td>\n",
       "      <td>NaN</td>\n",
       "      <td>NaN</td>\n",
       "      <td>NaN</td>\n",
       "      <td>NaN</td>\n",
       "    </tr>\n",
       "    <tr>\n",
       "      <th>3</th>\n",
       "      <td>3</td>\n",
       "      <td>Mon Oct 10 09:07:51 +0000 2022</td>\n",
       "      <td>1579398294966788096</td>\n",
       "      <td>1579398294966788096</td>\n",
       "      <td>Learn about these important studies with Repro...</td>\n",
       "      <td>True</td>\n",
       "      <td>&lt;a href=\"https://mobile.twitter.com\" rel=\"nofo...</td>\n",
       "      <td>1.579398e+18</td>\n",
       "      <td>1.579398e+18</td>\n",
       "      <td>8.630505e+17</td>\n",
       "      <td>...</td>\n",
       "      <td>NaN</td>\n",
       "      <td>NaN</td>\n",
       "      <td>NaN</td>\n",
       "      <td>NaN</td>\n",
       "      <td>NaN</td>\n",
       "      <td>NaN</td>\n",
       "      <td>NaN</td>\n",
       "      <td>NaN</td>\n",
       "      <td>NaN</td>\n",
       "      <td>False</td>\n",
       "    </tr>\n",
       "    <tr>\n",
       "      <th>4</th>\n",
       "      <td>4</td>\n",
       "      <td>Sun Oct 09 12:58:07 +0000 2022</td>\n",
       "      <td>1579093855445848064</td>\n",
       "      <td>1579093855445848064</td>\n",
       "      <td>RT @LiviaSimela: Odd how this comes up regular...</td>\n",
       "      <td>False</td>\n",
       "      <td>&lt;a href=\"http://twitter.com/download/iphone\" r...</td>\n",
       "      <td>NaN</td>\n",
       "      <td>NaN</td>\n",
       "      <td>NaN</td>\n",
       "      <td>...</td>\n",
       "      <td>False</td>\n",
       "      <td>NaN</td>\n",
       "      <td>NaN</td>\n",
       "      <td>89.0</td>\n",
       "      <td>1723.0</td>\n",
       "      <td>False</td>\n",
       "      <td>False</td>\n",
       "      <td>NaN</td>\n",
       "      <td>en</td>\n",
       "      <td>NaN</td>\n",
       "    </tr>\n",
       "  </tbody>\n",
       "</table>\n",
       "<p>5 rows × 223 columns</p>\n",
       "</div>"
      ],
      "text/plain": [
       "   Unnamed: 0                      created_at                   id  \\\n",
       "0           0  Thu Oct 13 11:18:48 +0000 2022  1580518410060206080   \n",
       "1           1  Wed Oct 12 14:06:19 +0000 2022  1580198182134304768   \n",
       "2           2  Mon Oct 10 10:14:18 +0000 2022  1579415016088141825   \n",
       "3           3  Mon Oct 10 09:07:51 +0000 2022  1579398294966788096   \n",
       "4           4  Sun Oct 09 12:58:07 +0000 2022  1579093855445848064   \n",
       "\n",
       "                id_str                                               text  \\\n",
       "0  1580518410060206080  RT @riots_imperial: We are back! Join us &amp;...   \n",
       "1  1580198182134304768  RT @MoShahdloo: Did you know that you can show...   \n",
       "2  1579415016088141825  RT @AU_PrimaryCare: Learn about these importan...   \n",
       "3  1579398294966788096  Learn about these important studies with Repro...   \n",
       "4  1579093855445848064  RT @LiviaSimela: Odd how this comes up regular...   \n",
       "\n",
       "   truncated                                             source  \\\n",
       "0      False  <a href=\"https://mobile.twitter.com\" rel=\"nofo...   \n",
       "1      False  <a href=\"http://twitter.com/download/iphone\" r...   \n",
       "2      False  <a href=\"http://twitter.com/download/iphone\" r...   \n",
       "3       True  <a href=\"https://mobile.twitter.com\" rel=\"nofo...   \n",
       "4      False  <a href=\"http://twitter.com/download/iphone\" r...   \n",
       "\n",
       "   in_reply_to_status_id  in_reply_to_status_id_str  in_reply_to_user_id  ...  \\\n",
       "0                    NaN                        NaN                  NaN  ...   \n",
       "1                    NaN                        NaN                  NaN  ...   \n",
       "2                    NaN                        NaN                  NaN  ...   \n",
       "3           1.579398e+18               1.579398e+18         8.630505e+17  ...   \n",
       "4                    NaN                        NaN                  NaN  ...   \n",
       "\n",
       "   retweeted_status.quoted_status.is_quote_status  \\\n",
       "0                                             NaN   \n",
       "1                                            True   \n",
       "2                                             NaN   \n",
       "3                                             NaN   \n",
       "4                                           False   \n",
       "\n",
       "  retweeted_status.quoted_status.quoted_status_id  \\\n",
       "0                                             NaN   \n",
       "1                                    1.579510e+18   \n",
       "2                                             NaN   \n",
       "3                                             NaN   \n",
       "4                                             NaN   \n",
       "\n",
       "   retweeted_status.quoted_status.quoted_status_id_str  \\\n",
       "0                                                NaN     \n",
       "1                                       1.579510e+18     \n",
       "2                                                NaN     \n",
       "3                                                NaN     \n",
       "4                                                NaN     \n",
       "\n",
       "   retweeted_status.quoted_status.retweet_count  \\\n",
       "0                                           NaN   \n",
       "1                                           1.0   \n",
       "2                                           NaN   \n",
       "3                                           NaN   \n",
       "4                                          89.0   \n",
       "\n",
       "   retweeted_status.quoted_status.favorite_count  \\\n",
       "0                                            NaN   \n",
       "1                                            8.0   \n",
       "2                                            NaN   \n",
       "3                                            NaN   \n",
       "4                                         1723.0   \n",
       "\n",
       "   retweeted_status.quoted_status.favorited  \\\n",
       "0                                       NaN   \n",
       "1                                     False   \n",
       "2                                       NaN   \n",
       "3                                       NaN   \n",
       "4                                     False   \n",
       "\n",
       "   retweeted_status.quoted_status.retweeted  \\\n",
       "0                                       NaN   \n",
       "1                                     False   \n",
       "2                                       NaN   \n",
       "3                                       NaN   \n",
       "4                                     False   \n",
       "\n",
       "   retweeted_status.quoted_status.possibly_sensitive  \\\n",
       "0                                                NaN   \n",
       "1                                              False   \n",
       "2                                                NaN   \n",
       "3                                                NaN   \n",
       "4                                                NaN   \n",
       "\n",
       "   retweeted_status.quoted_status.lang  possibly_sensitive  \n",
       "0                                  NaN                 NaN  \n",
       "1                                   en                 NaN  \n",
       "2                                  NaN                 NaN  \n",
       "3                                  NaN               False  \n",
       "4                                   en                 NaN  \n",
       "\n",
       "[5 rows x 223 columns]"
      ]
     },
     "execution_count": 6,
     "metadata": {},
     "output_type": "execute_result"
    }
   ],
   "source": [
    "tweets_df = pd.read_csv('./data/riot.csv')\n",
    "tweets_df.head()"
   ]
  },
  {
   "cell_type": "markdown",
   "id": "a573f062",
   "metadata": {},
   "source": [
    "## Finding a Specific Column\n",
    "\n",
    "In the next cell, we wil extract the data from a particular column, the user.screen_name, to find all the unique screen names in our data set. "
   ]
  },
  {
   "cell_type": "code",
   "execution_count": 11,
   "id": "33c25a64",
   "metadata": {},
   "outputs": [],
   "source": [
    "# get the user's screen name\n",
    "authors = tweets_df[\"user.screen_name\"].unique()"
   ]
  },
  {
   "cell_type": "markdown",
   "id": "61b45ef2",
   "metadata": {},
   "source": [
    "## Functions\n",
    "\n",
    "Functions allow us to re-use parts of code as operations.  "
   ]
  },
  {
   "cell_type": "code",
   "execution_count": 12,
   "id": "f384f667",
   "metadata": {},
   "outputs": [],
   "source": [
    "def create_author_file (author):\n",
    "    '''\n",
    "    Create a CSV file by extracting tweets from the Tweets file. \n",
    "    '''\n",
    "    author_df = tweets_df[tweets_df[\"user.screen_name\"].isin([author])]\n",
    "    file_name = \"{}_tweets.csv\".format(author)\n",
    "    author_df.to_csv(file_name)"
   ]
  },
  {
   "cell_type": "markdown",
   "id": "cc7e368d",
   "metadata": {},
   "source": [
    "## For loops\n",
    "\n",
    "Loops allow us to use the same"
   ]
  },
  {
   "cell_type": "code",
   "execution_count": 13,
   "id": "526fdd9c",
   "metadata": {},
   "outputs": [],
   "source": [
    "\n",
    "for author in authors:\n",
    "    create_author_file(author)"
   ]
  },
  {
   "cell_type": "markdown",
   "id": "a7316379",
   "metadata": {},
   "source": [
    "## Visualisation\n",
    "\n",
    "Seaborn is one of many Python visualisation libraries and it supports a few graph and chart types from the box. "
   ]
  },
  {
   "cell_type": "code",
   "execution_count": 15,
   "id": "40466797",
   "metadata": {},
   "outputs": [],
   "source": [
    "import seaborn as sns"
   ]
  },
  {
   "cell_type": "code",
   "execution_count": 69,
   "id": "7c5f433e",
   "metadata": {},
   "outputs": [
    {
     "data": {
      "text/html": [
       "<div>\n",
       "<style scoped>\n",
       "    .dataframe tbody tr th:only-of-type {\n",
       "        vertical-align: middle;\n",
       "    }\n",
       "\n",
       "    .dataframe tbody tr th {\n",
       "        vertical-align: top;\n",
       "    }\n",
       "\n",
       "    .dataframe thead th {\n",
       "        text-align: right;\n",
       "    }\n",
       "</style>\n",
       "<table border=\"1\" class=\"dataframe\">\n",
       "  <thead>\n",
       "    <tr style=\"text-align: right;\">\n",
       "      <th></th>\n",
       "      <th>ScreenName</th>\n",
       "      <th>Tweets</th>\n",
       "    </tr>\n",
       "  </thead>\n",
       "  <tbody>\n",
       "    <tr>\n",
       "      <th>0</th>\n",
       "      <td>riotscienceclub</td>\n",
       "      <td>4</td>\n",
       "    </tr>\n",
       "    <tr>\n",
       "      <th>1</th>\n",
       "      <td>NaudetFlorian</td>\n",
       "      <td>1</td>\n",
       "    </tr>\n",
       "    <tr>\n",
       "      <th>2</th>\n",
       "      <td>AU_PrimaryCare</td>\n",
       "      <td>1</td>\n",
       "    </tr>\n",
       "    <tr>\n",
       "      <th>3</th>\n",
       "      <td>giladfeldman</td>\n",
       "      <td>1</td>\n",
       "    </tr>\n",
       "    <tr>\n",
       "      <th>4</th>\n",
       "      <td>psforscher</td>\n",
       "      <td>1</td>\n",
       "    </tr>\n",
       "  </tbody>\n",
       "</table>\n",
       "</div>"
      ],
      "text/plain": [
       "        ScreenName  Tweets\n",
       "0  riotscienceclub       4\n",
       "1    NaudetFlorian       1\n",
       "2   AU_PrimaryCare       1\n",
       "3     giladfeldman       1\n",
       "4       psforscher       1"
      ]
     },
     "execution_count": 69,
     "metadata": {},
     "output_type": "execute_result"
    }
   ],
   "source": [
    "#count the number of tweets to use for the bar chart\n",
    "frequency = tweets_df[\"user.screen_name\"].value_counts()\n",
    "\n",
    "#convert the series of counts back to a data frame for Seaborn.\n",
    "barplot_df = pd.DataFrame({\"ScreenName\": frequency.index, \"Tweets\": frequency.values})\n",
    "\n",
    "barplot_df.head()"
   ]
  },
  {
   "cell_type": "code",
   "execution_count": 70,
   "id": "0d330d73",
   "metadata": {},
   "outputs": [
    {
     "data": {
      "text/plain": [
       "<AxesSubplot: xlabel='ScreenName', ylabel='Tweets'>"
      ]
     },
     "execution_count": 70,
     "metadata": {},
     "output_type": "execute_result"
    },
    {
     "data": {
      "image/png": "[encoded data removed]",
      "text/plain": [
       "<Figure size 640x480 with 1 Axes>"
      ]
     },
     "metadata": {},
     "output_type": "display_data"
    }
   ],
   "source": [
    "#using Seaborn to plot the data\n",
    "sns.barplot(data=barplot_df, x=\"ScreenName\", y=\"Tweets\")"
   ]
  },
  {
   "cell_type": "code",
   "execution_count": 61,
   "id": "4dcce0ec",
   "metadata": {},
   "outputs": [],
   "source": [
    "## Networks\n",
    "\n",
    "import networkx as nx\n",
    "import matplotlib.pyplot as plt\n",
    "\n",
    "graph = nx.Graph()"
   ]
  },
  {
   "cell_type": "code",
   "execution_count": 40,
   "id": "5ba8d3b6",
   "metadata": {},
   "outputs": [],
   "source": [
    "screen = tweets_df[\"user.screen_name\"].unique().tolist()\n",
    "retweets = tweets_df[\"retweeted_status.user.screen_name\"].unique().tolist()\n",
    "#join the two lists together\n",
    "# set() is a list where the values are unique\n",
    "# Converted back to a list that then \n",
    "node_list = list(set(screen + retweets))"
   ]
  },
  {
   "cell_type": "markdown",
   "id": "d09105da",
   "metadata": {},
   "source": [
    "Here we use the unique values in the node_list variable to create the nodes in the graph. "
   ]
  },
  {
   "cell_type": "code",
   "execution_count": 44,
   "id": "07607181",
   "metadata": {},
   "outputs": [],
   "source": [
    "graph.add_nodes_from(node_list)"
   ]
  },
  {
   "cell_type": "markdown",
   "id": "3e2ab886",
   "metadata": {},
   "source": [
    "Here we create the edges, or links between the nodes, in the graph"
   ]
  },
  {
   "cell_type": "code",
   "execution_count": 65,
   "id": "e590d820",
   "metadata": {},
   "outputs": [],
   "source": [
    "edges_df = tweets_df.loc[tweets_df[\"retweeted_status.user.screen_name\"] != \"\"]\n",
    "edges = edges_df[[\"user.screen_name\", \"retweeted_status.user.screen_name\"]].values.tolist()"
   ]
  },
  {
   "cell_type": "code",
   "execution_count": 66,
   "id": "070616bf",
   "metadata": {},
   "outputs": [],
   "source": [
    "for edge in edges:\n",
    "    graph.add_edge(edge[0], edge[1])"
   ]
  },
  {
   "cell_type": "code",
   "execution_count": 67,
   "id": "45ff0a21",
   "metadata": {},
   "outputs": [
    {
     "data": {
      "image/png": "[encoded data removed]",
      "text/plain": [
       "<Figure size 640x480 with 1 Axes>"
      ]
     },
     "metadata": {},
     "output_type": "display_data"
    }
   ],
   "source": [
    "nx.draw(graph, with_labels=True)\n",
    "plt.show()"
   ]
  },
  {
   "cell_type": "markdown",
   "id": "fb550d40",
   "metadata": {},
   "source": [
    "Networkx can also be used to export an XML file in GraphML or an older Gephi format to allow you to import the data into Gephi. This allows you to use other tools but to show your method to extract data into a graph format. "
   ]
  },
  {
   "cell_type": "code",
   "execution_count": 72,
   "id": "46a0f275",
   "metadata": {},
   "outputs": [],
   "source": [
    "nx.write_graphml(graph, \"/Users/iain/Desktop/riot.graphml\")"
   ]
  }
 ],
 "metadata": {
  "kernelspec": {
   "display_name": "Python 3.9.15 ('riot': venv)",
   "language": "python",
   "name": "python3"
  },
  "language_info": {
   "codemirror_mode": {
    "name": "ipython",
    "version": 3
   },
   "file_extension": ".py",
   "mimetype": "text/x-python",
   "name": "python",
   "nbconvert_exporter": "python",
   "pygments_lexer": "ipython3",
   "version": "3.9.15"
  },
  "vscode": {
   "interpreter": {
    "hash": "4047d68819e971276f4391747ff2620683f381b332de0aa0e8aa8fc3475558d1"
   }
  }
 },
 "nbformat": 4,
 "nbformat_minor": 5
}
